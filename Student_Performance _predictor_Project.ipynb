{
  "nbformat": 4,
  "nbformat_minor": 0,
  "metadata": {
    "colab": {
      "provenance": []
    },
    "kernelspec": {
      "name": "python3",
      "display_name": "Python 3"
    },
    "language_info": {
      "name": "python"
    }
  },
  "cells": [
    {
      "cell_type": "code",
      "source": [
        "\n",
        "!pip install gradio plotly scikit-learn pandas matplotlib seaborn --quiet\n",
        "\n",
        "\n",
        "import pandas as pd\n",
        "import numpy as np\n",
        "import gradio as gr\n",
        "import plotly.express as px\n",
        "import matplotlib.pyplot as plt\n",
        "import seaborn as sns\n",
        "from sklearn.model_selection import train_test_split\n",
        "from sklearn.ensemble import RandomForestClassifier\n",
        "from sklearn.metrics import accuracy_score, classification_report\n",
        "\n",
        "\n",
        "def load_dataset(file):\n",
        "    df = pd.read_csv(file.name)\n",
        "    return df.head().to_html()\n",
        "\n",
        "\n",
        "def train_and_dashboard(file, target_col=\"Result\"):\n",
        "\n",
        "    df = pd.read_csv(file.name)\n",
        "\n",
        "\n",
        "    df = df.dropna()\n",
        "    df = df.copy()\n",
        "\n",
        "    X = df.drop(columns=[target_col])\n",
        "    y = df[target_col]\n",
        "\n",
        "\n",
        "    X = pd.get_dummies(X, drop_first=True)\n",
        "\n",
        "\n",
        "    X_train, X_test, y_train, y_test = train_test_split(X, y, test_size=0.2, random_state=42)\n",
        "\n",
        "\n",
        "    model = RandomForestClassifier(random_state=42)\n",
        "    model.fit(X_train, y_train)\n",
        "    preds = model.predict(X_test)\n",
        "\n",
        "    acc = accuracy_score(y_test, preds)\n",
        "    report = classification_report(y_test, preds, output_dict=True)\n",
        "\n",
        "\n",
        "    fig1 = px.histogram(df, x=target_col, color=target_col, title=\"Student Performance Distribution\")\n",
        "\n",
        "\n",
        "    feature_importances = pd.DataFrame({\n",
        "        \"Feature\": X.columns,\n",
        "        \"Importance\": model.feature_importances_\n",
        "    }).sort_values(by=\"Importance\", ascending=False)\n",
        "\n",
        "    fig2 = px.bar(feature_importances.head(10), x=\"Importance\", y=\"Feature\", orientation=\"h\",\n",
        "                  title=\"Top 10 Important Features\")\n",
        "\n",
        "\n",
        "    pass_rate = (df[target_col].value_counts(normalize=True).get(\"Pass\", 0)) * 100\n",
        "\n",
        "    summary = f\" Model Accuracy: {acc*100:.2f}%\\n Pass Percentage: {pass_rate:.2f}%\"\n",
        "\n",
        "    return summary, fig1, fig2\n",
        "\n",
        "\n",
        "with gr.Blocks() as demo:\n",
        "    gr.Markdown(\"## Student Academic Performance Predictor Dashboard\")\n",
        "\n",
        "    with gr.Row():\n",
        "        file_input = gr.File(label=\"Upload CSV File\")\n",
        "        output_html = gr.HTML(label=\"Preview Data\")\n",
        "\n",
        "    file_input.change(load_dataset, inputs=file_input, outputs=output_html)\n",
        "\n",
        "    with gr.Row():\n",
        "        target_col = gr.Textbox(value=\"Result\", label=\"Target Column (Default: Result)\")\n",
        "        btn = gr.Button(\"Train Model & Generate Dashboard\")\n",
        "\n",
        "    summary = gr.Textbox(label=\"Model Summary\")\n",
        "    plot1 = gr.Plot(label=\"Performance Distribution\")\n",
        "    plot2 = gr.Plot(label=\"Feature Importance\")\n",
        "\n",
        "    btn.click(train_and_dashboard, inputs=[file_input, target_col], outputs=[summary, plot1, plot2])\n",
        "\n",
        "\n",
        "demo.launch(share=True)\n"
      ],
      "metadata": {
        "colab": {
          "base_uri": "https://localhost:8080/",
          "height": 611
        },
        "id": "fhcdOdVWzjzG",
        "outputId": "94b60102-66ff-4b95-b908-2465743123f4"
      },
      "execution_count": null,
      "outputs": [
        {
          "output_type": "stream",
          "name": "stdout",
          "text": [
            "Colab notebook detected. To show errors in colab notebook, set debug=True in launch()\n",
            "* Running on public URL: https://88dbb29ff2b303def0.gradio.live\n",
            "\n",
            "This share link expires in 1 week. For free permanent hosting and GPU upgrades, run `gradio deploy` from the terminal in the working directory to deploy to Hugging Face Spaces (https://huggingface.co/spaces)\n"
          ]
        },
        {
          "output_type": "display_data",
          "data": {
            "text/plain": [
              "<IPython.core.display.HTML object>"
            ],
            "text/html": [
              "<div><iframe src=\"https://88dbb29ff2b303def0.gradio.live\" width=\"100%\" height=\"500\" allow=\"autoplay; camera; microphone; clipboard-read; clipboard-write;\" frameborder=\"0\" allowfullscreen></iframe></div>"
            ]
          },
          "metadata": {}
        },
        {
          "output_type": "execute_result",
          "data": {
            "text/plain": []
          },
          "metadata": {},
          "execution_count": 9
        }
      ]
    }
  ]
}